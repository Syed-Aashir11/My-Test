{
 "cells": [
  {
   "cell_type": "code",
   "execution_count": 1,
   "id": "novel-capability",
   "metadata": {},
   "outputs": [],
   "source": [
    "#Definition"
   ]
  },
  {
   "cell_type": "code",
   "execution_count": 37,
   "id": "elementary-photographer",
   "metadata": {},
   "outputs": [],
   "source": [
    "import tkinter as tkinter\n",
    "gui=tkinter.Tk()\n",
    "gui.title('Getting information')\n",
    "gui.geometry('600x600')\n",
    "gui.configure(bg=\"light green\")\n",
    "gui.mainloop() "
   ]
  },
  {
   "cell_type": "code",
   "execution_count": 47,
   "id": "resident-brief",
   "metadata": {},
   "outputs": [],
   "source": [
    "import tkinter as tk\n",
    "from tkinter import *\n",
    "# Creat instance\n",
    "win=Tk()\n",
    "# Add a title\n",
    "win.title(\"Aashir\")\n",
    "# add a Label method 1\n",
    "tk.Label(win, text=\"Hello World Label\").grid(column= 10 , row=10)\n",
    "# Start gui\n",
    "win.mainloop()                                   "
   ]
  },
  {
   "cell_type": "code",
   "execution_count": null,
   "id": "bright-louis",
   "metadata": {},
   "outputs": [],
   "source": [
    "# How to add buttons and labels at same time with clickable option\n",
    "import tkinter as tk\n",
    "from tkinter import *\n",
    "#creat instance\n",
    "win=Tk()\n",
    "# add label method 2\n",
    "mylabel=tk.Label(win, text=\"guess the number 10\")\n",
    "mylabel.grid(column=0 ,row=0)\n",
    "# button function\n",
    "def click_me():\n",
    "    btn.configure(text=\"winner\")\n",
    "    mylabel.configure(foreground='blue')\n",
    "    mylabel.configure(text=\"10\")\n",
    "def click_me2():\n",
    "    btn2.configure(text=\"looser\")\n",
    "    mylabel.configure(foreground='green')\n",
    "    mylabel.configure(text=\"9\")\n",
    "def click_me3():\n",
    "    btn3.configure(text=\"looser\")\n",
    "    mylabel.configure(foreground='yellow')\n",
    "    mylabel.configure(text=\"8\")\n",
    "def click_me4():\n",
    "    btn3.configure(text=\"looser\")\n",
    "    mylabel.configure(foreground='orange')\n",
    "    mylabel.configure(text=\"100\")     \n",
    "    \n",
    "# adding a button    \n",
    "btn= tk.Button(win, text=\"guess 10\", command=click_me)    \n",
    "btn.grid(column=0, row=1)\n",
    "btn2= tk.Button(win, text=\"guess 10\", command=click_me2)    \n",
    "btn2.grid(column=0, row=2)\n",
    "btn3= tk.Button(win, text=\"guess 10\", command=click_me3)    \n",
    "btn3.grid(column=0, row=3)\n",
    "btn4= tk.Button(win, text=\"guess 10\", command=click_me4)    \n",
    "btn4.grid(column=0, row=4)\n",
    "win.mainloop()    "
   ]
  },
  {
   "cell_type": "code",
   "execution_count": 45,
   "id": "stock-fleece",
   "metadata": {},
   "outputs": [],
   "source": [
    "from tkinter import *\n",
    "top=Tk()\n",
    "top.geometry('300x300')\n",
    "b=Button(top,text=\"Python\",command=Button_backend)\n",
    "b.place(x=500,y=500)\n",
    "top.mainloop()"
   ]
  },
  {
   "cell_type": "code",
   "execution_count": 34,
   "id": "democratic-startup",
   "metadata": {},
   "outputs": [],
   "source": [
    "from tkinter import * \n",
    "def btnClick(numbers): \n",
    " global operator \n",
    " operator=operator+str(numbers) \n",
    " text_Input.set(operator) \n",
    "def btnClearDisplay(): \n",
    " global operator \n",
    " operator=\"\" \n",
    " text_Input.set(\"\") \n",
    "def btnEqualsInput(): \n",
    " global operator \n",
    " ans=str(eval(operator)) \n",
    " text_Input.set(ans) \n",
    " operator=\"\" \n",
    "cal=Tk() \n",
    "cal.title(\"Calculator\") \n",
    "operator=\"\" \n",
    "text_Input=StringVar() \n",
    "textDisplay=Entry(cal,font=('arial',20,'bold'),textvariable=text_Input,bd=30,insertwidth=4,bg=\"blue\",justify='right').grid(columnspan=4) \n",
    "btnbox=Button(cal,padx=16,bd=8,fg=\"black\",font=('arial',20,'bold'),text=\"\",command=lambda:btnClick(7)).grid(row= 1,column=0) \n",
    "btnbox=Button(cal,padx=16,bd=8,fg=\"black\",font=('arial',20,'bold'),text=\"\",command=lambda:btnClick(8)).grid(row= 1,column=1) \n",
    "btnbox=Button(cal,padx=16,bd=8,fg=\"black\",font=('arial',20,'bold'),text=\"\",command=lambda:btnClick(9)).grid(row= 1,column=2)\n",
    "text_box=Button(cal,padx=16,bd=8,fg=\"black\",font=('arial',20,'bold'),text=\"\",command=lambda:btnClick(\"box\")).grid (row=1,column=3)"
   ]
  },
  {
   "cell_type": "code",
   "execution_count": 15,
   "id": "proof-vehicle",
   "metadata": {},
   "outputs": [],
   "source": [
    "import tkinter as tk\n",
    "radio=tk.Tk()\n",
    "v=tk.IntVar()\n",
    "tk.Label(radio,text=\"choose any one languge\",justify=tk.LEFT,padx=20)\n",
    "tk.Radiobutton(radio,text=\"python\",padx=20,variable=v,value=1).pack(anchor=tk.W)\n",
    "tk.Radiobutton(radio,text=\"java\",padx=20,variable=v,value=1).pack(anchor=tk.W)\n",
    "radio.mainloop()"
   ]
  },
  {
   "cell_type": "code",
   "execution_count": null,
   "id": "resistant-antigua",
   "metadata": {},
   "outputs": [],
   "source": [
    "from tkinter import *\n",
    "master = Tk()\n",
    "import tkinter as tk\n",
    "var1 = IntVar()\n",
    "Checkbutton(master, text=\"male\", variable=var1).grid(row=0, sticky=W)\n",
    "var2 = IntVar()\n",
    "Checkbutton(master, text=\"female\", variable=var2).grid(row=1, sticky=W)\n",
    "\n",
    "mainloop()"
   ]
  },
  {
   "cell_type": "code",
   "execution_count": null,
   "id": "vanilla-blend",
   "metadata": {},
   "outputs": [],
   "source": []
  }
 ],
 "metadata": {
  "kernelspec": {
   "display_name": "Python 3",
   "language": "python",
   "name": "python3"
  },
  "language_info": {
   "codemirror_mode": {
    "name": "ipython",
    "version": 3
   },
   "file_extension": ".py",
   "mimetype": "text/x-python",
   "name": "python",
   "nbconvert_exporter": "python",
   "pygments_lexer": "ipython3",
   "version": "3.8.7"
  }
 },
 "nbformat": 4,
 "nbformat_minor": 5
}
